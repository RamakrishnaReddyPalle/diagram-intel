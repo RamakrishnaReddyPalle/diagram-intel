{
 "cells": [
  {
   "cell_type": "markdown",
   "id": "dac01294",
   "metadata": {},
   "source": [
    "# **10) Full pipeline testing**"
   ]
  },
  {
   "cell_type": "code",
   "execution_count": 1,
   "id": "8a611eaa",
   "metadata": {},
   "outputs": [
    {
     "name": "stdout",
     "output_type": "stream",
     "text": [
      "Project root: D:\\IIT BBS\\Job Resources\\fiolabs\\diagram-intel\n",
      "Python: 3.11.13 | packaged by Anaconda, Inc. | (main, Jun  5 2025, 13:03:15) [MSC v.1929 64 bit (AMD64)]\n",
      "OS: Windows-10-10.0.26100-SP0\n"
     ]
    }
   ],
   "source": [
    "from pathlib import Path\n",
    "import os, sys, platform, warnings\n",
    "\n",
    "ROOT = Path.cwd().resolve().parents[0]\n",
    "if (ROOT / \"src\").exists():\n",
    "    sys.path.insert(0, str(ROOT))\n",
    "\n",
    "print(\"Project root:\", ROOT)\n",
    "print(\"Python:\", sys.version)\n",
    "print(\"OS:\", platform.platform())"
   ]
  },
  {
   "cell_type": "code",
   "execution_count": 2,
   "id": "e1930176",
   "metadata": {},
   "outputs": [
    {
     "name": "stdout",
     "output_type": "stream",
     "text": [
      "WORKSPACE\n",
      "  raw      : D:\\IIT BBS\\Job Resources\\fiolabs\\diagram-intel\\data\\_runs\\dev-new-mods-1\\raw\n",
      "  interim  : D:\\IIT BBS\\Job Resources\\fiolabs\\diagram-intel\\data\\_runs\\dev-new-mods-1\\interim\n",
      "  processed: D:\\IIT BBS\\Job Resources\\fiolabs\\diagram-intel\\data\\_runs\\dev-new-mods-1\\processed\n",
      "  exports  : D:\\IIT BBS\\Job Resources\\fiolabs\\diagram-intel\\data\\_runs\\dev-new-mods-1\\exports\n"
     ]
    },
    {
     "name": "stderr",
     "output_type": "stream",
     "text": [
      "D:\\IIT BBS\\Job Resources\\fiolabs\\diagram-intel\\src\\config\\loader.py:59: UserWarning: [loader] Hard merge failed for 'D:\\IIT BBS\\Job Resources\\fiolabs\\diagram-intel\\configs\\constraints\\packs\\generic.yaml' (ConfigTypeError); falling back to soft replace-on-mismatch.\n",
      "  warnings.warn(f\"[loader] Hard merge failed for '{p}' ({e.__class__.__name__}); \"\n",
      "D:\\IIT BBS\\Job Resources\\fiolabs\\diagram-intel\\src\\config\\loader.py:59: UserWarning: [loader] Hard merge failed for 'D:\\IIT BBS\\Job Resources\\fiolabs\\diagram-intel\\configs\\constraints\\projects\\suggested_wiring diagram_Main Distribution Panel_Fio Labs.yaml' (ConfigTypeError); falling back to soft replace-on-mismatch.\n",
      "  warnings.warn(f\"[loader] Hard merge failed for '{p}' ({e.__class__.__name__}); \"\n"
     ]
    }
   ],
   "source": [
    "# Isolate to a throwaway workspace\n",
    "os.environ[\"RUN_ID\"] = \"dev-new-mods-1\"          # <- change per test\n",
    "os.environ[\"CONSTRAINTS_PACKS\"] = os.environ.get(\"CONSTRAINTS_PACKS\",\"generic,indian_power\")\n",
    "os.environ[\"PROJECT_CONSTRAINTS\"] = \"suggested_wiring diagram_Main Distribution Panel_Fio Labs\"\n",
    "\n",
    "from src.config.loader import load_cfg\n",
    "cfg = load_cfg()\n",
    "\n",
    "print(\"WORKSPACE\")\n",
    "print(\"  raw      :\", cfg.paths.raw)\n",
    "print(\"  interim  :\", cfg.paths.interim)\n",
    "print(\"  processed:\", cfg.paths.processed)\n",
    "print(\"  exports  :\", cfg.paths.exports)"
   ]
  },
  {
   "cell_type": "code",
   "execution_count": 3,
   "id": "f763959b",
   "metadata": {},
   "outputs": [
    {
     "name": "stdout",
     "output_type": "stream",
     "text": [
      "Constraints keys: ['rulebook', 'net_rules', 'refine', 'nets', 'ports', 'snap', 'components', 'inference', 'name', 'doc', 'phases', 'neutral', 'protective', 'rules', 'vocabulary', 'colour_code']\n",
      "Rulebook: ['MCCB_3P', 'MCCB_4P', 'MCB_1P', 'MCB_2P', 'MCB_3P', 'MCB_4P', 'ISOLATOR_2P', 'ISOLATOR_4P', 'RCCB_2P', 'RCCB_4P', 'SPD_4P', 'TPN_OUTGOING', 'TB_MULTI', 'ACCL_1PH', 'ACCL_3PH', 'THREEWAY_2P', 'MCCB_TP', 'MCCB_TPN', 'CONTACTOR_3P']\n",
      "Inference: ['enable', 'source_keywords', 'load_keywords', 'typing_hints_contains', 'ratings_regex']\n",
      "Nets: {'max_nodes_warning': 5000, 'max_nodes_error': 15000}\n"
     ]
    }
   ],
   "source": [
    "from omegaconf import OmegaConf\n",
    "con = cfg.constraints\n",
    "print(\"Constraints keys:\", list(con.keys()))\n",
    "print(\"Rulebook:\", list((con.get(\"rulebook\") or {}).keys())[:20])\n",
    "print(\"Inference:\", list((con.get(\"inference\") or {}).keys()))\n",
    "print(\"Nets:\", con.get(\"nets\"))"
   ]
  },
  {
   "cell_type": "code",
   "execution_count": 4,
   "id": "1f426ecd",
   "metadata": {},
   "outputs": [
    {
     "name": "stdout",
     "output_type": "stream",
     "text": [
      "\u001b[32m2025-08-27 20:14:20.292\u001b[0m | \u001b[1mINFO    \u001b[0m | \u001b[36msrc.ingest.pdf_to_svg\u001b[0m:\u001b[36mextract_svg\u001b[0m:\u001b[36m16\u001b[0m - \u001b[1m[ingest] Exporting SVG/PNG for wiring diagram_Main Distribution Panel_Fio Labs.pdf (dpi=900)\u001b[0m\n",
      "\u001b[32m2025-08-27 20:14:22.353\u001b[0m | \u001b[1mINFO    \u001b[0m | \u001b[36msrc.ingest.pdf_to_svg\u001b[0m:\u001b[36mextract_svg\u001b[0m:\u001b[36m30\u001b[0m - \u001b[1m[ingest] Engine=pymupdf | pages=1 | vector-like pages=1\u001b[0m\n",
      "\u001b[32m2025-08-27 20:14:22.353\u001b[0m | \u001b[1mINFO    \u001b[0m | \u001b[36msrc.ingest.pdf_to_svg\u001b[0m:\u001b[36mextract_svg\u001b[0m:\u001b[36m31\u001b[0m - \u001b[1m[ingest] Wrote manifest → D:\\IIT BBS\\Job Resources\\fiolabs\\diagram-intel\\data\\_runs\\dev-new-mods-1\\raw\\manifests\\wiring diagram_Main Distribution Panel_Fio Labs.json\u001b[0m\n",
      "\u001b[32m2025-08-27 20:14:28.241\u001b[0m | \u001b[1mINFO    \u001b[0m | \u001b[36msrc.ingest.tiler\u001b[0m:\u001b[36mtile_pages\u001b[0m:\u001b[36m66\u001b[0m - \u001b[1m[tiler] wiring diagram_Main Distribution Panel_Fio Labs page-1: wrote 602 tiles\u001b[0m\n",
      "\u001b[32m2025-08-27 20:14:28.254\u001b[0m | \u001b[1mINFO    \u001b[0m | \u001b[36msrc.ingest.tiler\u001b[0m:\u001b[36mtile_pages\u001b[0m:\u001b[36m69\u001b[0m - \u001b[1m[tiler] Wrote tile index (602 rows) → D:\\IIT BBS\\Job Resources\\fiolabs\\diagram-intel\\data\\_runs\\dev-new-mods-1\\interim\\tiles\\tile_index.json\u001b[0m\n"
     ]
    }
   ],
   "source": [
    "from pathlib import Path\n",
    "from src.ingest.pdf_to_svg import extract_svg\n",
    "from src.ingest.tiler import tile_pages\n",
    "\n",
    "inp_dir = Path(cfg.paths.input_pdfs)\n",
    "pdfs = [p for p in inp_dir.glob(\"*\") if p.suffix.lower()==\".pdf\"]\n",
    "assert pdfs, \"Put at least one PDF in data/input_pdfs/\"\n",
    "pdf_path = pdfs[0]\n",
    "pdf_stem = pdf_path.stem\n",
    "\n",
    "extract_svg(str(pdf_path), cfg)\n",
    "tile_pages(cfg)"
   ]
  },
  {
   "cell_type": "code",
   "execution_count": 13,
   "id": "e53f417c",
   "metadata": {},
   "outputs": [
    {
     "name": "stdout",
     "output_type": "stream",
     "text": [
      "\u001b[32m2025-08-27 14:57:08.681\u001b[0m | \u001b[1mINFO    \u001b[0m | \u001b[36msrc.vision.runners.labels_reader\u001b[0m:\u001b[36mbuild_vector_text_index\u001b[0m:\u001b[36m158\u001b[0m - \u001b[1m[vector_text] wiring diagram_Main Distribution Panel_Fio Labs: 260 items across 1 pages (sources: ['pymupdf'])\u001b[0m\n",
      "\u001b[32m2025-08-27 14:57:08.697\u001b[0m | \u001b[1mINFO    \u001b[0m | \u001b[36msrc.vision.runners.labels_reader\u001b[0m:\u001b[36mrun_labels_reader\u001b[0m:\u001b[36m195\u001b[0m - \u001b[1m[labels] VLM disabled for micro tiles.\u001b[0m\n",
      "\u001b[32m2025-08-27 14:57:08.697\u001b[0m | \u001b[1mINFO    \u001b[0m | \u001b[36msrc.vision.runners.labels_reader\u001b[0m:\u001b[36mrun_labels_reader\u001b[0m:\u001b[36m198\u001b[0m - \u001b[1m[labels] OCR fallback enabled (Donut) with min_vec_text_threshold=20\u001b[0m\n",
      "\u001b[32m2025-08-27 16:36:44.664\u001b[0m | \u001b[1mINFO    \u001b[0m | \u001b[36msrc.vision.runners.labels_reader\u001b[0m:\u001b[36mrun_labels_reader\u001b[0m:\u001b[36m274\u001b[0m - \u001b[1m[labels] wrote 450 tile label files → D:\\IIT BBS\\Job Resources\\fiolabs\\diagram-intel\\data\\_runs\\dev-new-mods-1\\processed\\labels\\tile_labels.index.json\u001b[0m\n"
     ]
    }
   ],
   "source": [
    "from src.vision.runners.labels_reader import build_vector_text_index, run_labels_reader\n",
    "vec_idx = build_vector_text_index(cfg)\n",
    "run_labels_reader(cfg)"
   ]
  },
  {
   "cell_type": "code",
   "execution_count": 14,
   "id": "5a9cdea9",
   "metadata": {},
   "outputs": [
    {
     "name": "stderr",
     "output_type": "stream",
     "text": [
      "The image processor of type `Qwen2VLImageProcessor` is now loaded as a fast processor by default, even if the model checkpoint was saved with a slow processor. This is a breaking change and may produce slightly different outputs. To continue using the slow processor, instantiate this class with `use_fast=False`. Note that this behavior will be extended to all models in a future release.\n",
      "You have video processor config saved in `preprocessor.json` file which is deprecated. Video processor configs should be saved in their own `video_preprocessor.json` file. You can rename the file or load and save the processor back which renames it automatically. Loading from `preprocessor.json` will be removed in v5.0.\n",
      "Loading checkpoint shards: 100%|██████████| 2/2 [01:41<00:00, 50.69s/it]\n",
      "The following generation flags are not valid and may be ignored: ['temperature', 'top_p', 'top_k']. Set `TRANSFORMERS_VERBOSITY=info` for more details.\n",
      "Loading checkpoint shards: 100%|██████████| 2/2 [00:03<00:00,  1.55s/it]\n",
      "The following generation flags are not valid and may be ignored: ['temperature', 'top_p', 'top_k']. Set `TRANSFORMERS_VERBOSITY=info` for more details.\n",
      "Loading checkpoint shards: 100%|██████████| 2/2 [00:02<00:00,  1.30s/it]\n",
      "The following generation flags are not valid and may be ignored: ['temperature', 'top_p', 'top_k']. Set `TRANSFORMERS_VERBOSITY=info` for more details.\n",
      "Loading checkpoint shards: 100%|██████████| 2/2 [00:02<00:00,  1.23s/it]\n",
      "The following generation flags are not valid and may be ignored: ['temperature', 'top_p', 'top_k']. Set `TRANSFORMERS_VERBOSITY=info` for more details.\n",
      "Loading checkpoint shards: 100%|██████████| 2/2 [00:02<00:00,  1.17s/it]\n",
      "The following generation flags are not valid and may be ignored: ['temperature', 'top_p', 'top_k']. Set `TRANSFORMERS_VERBOSITY=info` for more details.\n",
      "Loading checkpoint shards: 100%|██████████| 2/2 [00:02<00:00,  1.13s/it]\n",
      "The following generation flags are not valid and may be ignored: ['temperature', 'top_p', 'top_k']. Set `TRANSFORMERS_VERBOSITY=info` for more details.\n",
      "Loading checkpoint shards: 100%|██████████| 2/2 [00:02<00:00,  1.34s/it]\n",
      "The following generation flags are not valid and may be ignored: ['temperature', 'top_p', 'top_k']. Set `TRANSFORMERS_VERBOSITY=info` for more details.\n",
      "Loading checkpoint shards: 100%|██████████| 2/2 [00:02<00:00,  1.24s/it]\n",
      "The following generation flags are not valid and may be ignored: ['temperature', 'top_p', 'top_k']. Set `TRANSFORMERS_VERBOSITY=info` for more details.\n",
      "Loading checkpoint shards: 100%|██████████| 2/2 [00:02<00:00,  1.30s/it]\n",
      "The following generation flags are not valid and may be ignored: ['temperature', 'top_p', 'top_k']. Set `TRANSFORMERS_VERBOSITY=info` for more details.\n",
      "Loading checkpoint shards: 100%|██████████| 2/2 [00:02<00:00,  1.24s/it]\n",
      "The following generation flags are not valid and may be ignored: ['temperature', 'top_p', 'top_k']. Set `TRANSFORMERS_VERBOSITY=info` for more details.\n",
      "Loading checkpoint shards: 100%|██████████| 2/2 [00:02<00:00,  1.33s/it]\n",
      "The following generation flags are not valid and may be ignored: ['temperature', 'top_p', 'top_k']. Set `TRANSFORMERS_VERBOSITY=info` for more details.\n",
      "Loading checkpoint shards: 100%|██████████| 2/2 [00:03<00:00,  1.58s/it]\n",
      "The following generation flags are not valid and may be ignored: ['temperature', 'top_p', 'top_k']. Set `TRANSFORMERS_VERBOSITY=info` for more details.\n",
      "Loading checkpoint shards: 100%|██████████| 2/2 [00:02<00:00,  1.43s/it]\n",
      "The following generation flags are not valid and may be ignored: ['temperature', 'top_p', 'top_k']. Set `TRANSFORMERS_VERBOSITY=info` for more details.\n",
      "Loading checkpoint shards: 100%|██████████| 2/2 [00:02<00:00,  1.23s/it]\n",
      "The following generation flags are not valid and may be ignored: ['temperature', 'top_p', 'top_k']. Set `TRANSFORMERS_VERBOSITY=info` for more details.\n",
      "Loading checkpoint shards: 100%|██████████| 2/2 [00:02<00:00,  1.21s/it]\n",
      "The following generation flags are not valid and may be ignored: ['temperature', 'top_p', 'top_k']. Set `TRANSFORMERS_VERBOSITY=info` for more details.\n",
      "Loading checkpoint shards: 100%|██████████| 2/2 [00:02<00:00,  1.33s/it]\n",
      "The following generation flags are not valid and may be ignored: ['temperature', 'top_p', 'top_k']. Set `TRANSFORMERS_VERBOSITY=info` for more details.\n",
      "Loading checkpoint shards: 100%|██████████| 2/2 [00:02<00:00,  1.33s/it]\n",
      "The following generation flags are not valid and may be ignored: ['temperature', 'top_p', 'top_k']. Set `TRANSFORMERS_VERBOSITY=info` for more details.\n",
      "Loading checkpoint shards: 100%|██████████| 2/2 [00:02<00:00,  1.25s/it]\n",
      "The following generation flags are not valid and may be ignored: ['temperature', 'top_p', 'top_k']. Set `TRANSFORMERS_VERBOSITY=info` for more details.\n",
      "Loading checkpoint shards: 100%|██████████| 2/2 [00:02<00:00,  1.11s/it]\n",
      "The following generation flags are not valid and may be ignored: ['temperature', 'top_p', 'top_k']. Set `TRANSFORMERS_VERBOSITY=info` for more details.\n",
      "Loading checkpoint shards: 100%|██████████| 2/2 [00:02<00:00,  1.19s/it]\n",
      "The following generation flags are not valid and may be ignored: ['temperature', 'top_p', 'top_k']. Set `TRANSFORMERS_VERBOSITY=info` for more details.\n",
      "Loading checkpoint shards: 100%|██████████| 2/2 [00:02<00:00,  1.40s/it]\n",
      "The following generation flags are not valid and may be ignored: ['temperature', 'top_p', 'top_k']. Set `TRANSFORMERS_VERBOSITY=info` for more details.\n",
      "Loading checkpoint shards: 100%|██████████| 2/2 [00:02<00:00,  1.17s/it]\n",
      "The following generation flags are not valid and may be ignored: ['temperature', 'top_p', 'top_k']. Set `TRANSFORMERS_VERBOSITY=info` for more details.\n",
      "Loading checkpoint shards: 100%|██████████| 2/2 [00:02<00:00,  1.17s/it]\n",
      "The following generation flags are not valid and may be ignored: ['temperature', 'top_p', 'top_k']. Set `TRANSFORMERS_VERBOSITY=info` for more details.\n",
      "Loading checkpoint shards: 100%|██████████| 2/2 [00:02<00:00,  1.14s/it]\n",
      "The following generation flags are not valid and may be ignored: ['temperature', 'top_p', 'top_k']. Set `TRANSFORMERS_VERBOSITY=info` for more details.\n",
      "Loading checkpoint shards: 100%|██████████| 2/2 [00:03<00:00,  1.56s/it]\n",
      "The following generation flags are not valid and may be ignored: ['temperature', 'top_p', 'top_k']. Set `TRANSFORMERS_VERBOSITY=info` for more details.\n",
      "Loading checkpoint shards: 100%|██████████| 2/2 [00:02<00:00,  1.34s/it]\n",
      "The following generation flags are not valid and may be ignored: ['temperature', 'top_p', 'top_k']. Set `TRANSFORMERS_VERBOSITY=info` for more details.\n",
      "Loading checkpoint shards: 100%|██████████| 2/2 [00:02<00:00,  1.19s/it]\n",
      "The following generation flags are not valid and may be ignored: ['temperature', 'top_p', 'top_k']. Set `TRANSFORMERS_VERBOSITY=info` for more details.\n",
      "Loading checkpoint shards: 100%|██████████| 2/2 [00:02<00:00,  1.27s/it]\n",
      "The following generation flags are not valid and may be ignored: ['temperature', 'top_p', 'top_k']. Set `TRANSFORMERS_VERBOSITY=info` for more details.\n",
      "Loading checkpoint shards: 100%|██████████| 2/2 [00:02<00:00,  1.35s/it]\n",
      "The following generation flags are not valid and may be ignored: ['temperature', 'top_p', 'top_k']. Set `TRANSFORMERS_VERBOSITY=info` for more details.\n",
      "Loading checkpoint shards: 100%|██████████| 2/2 [00:02<00:00,  1.33s/it]\n",
      "The following generation flags are not valid and may be ignored: ['temperature', 'top_p', 'top_k']. Set `TRANSFORMERS_VERBOSITY=info` for more details.\n",
      "Loading checkpoint shards: 100%|██████████| 2/2 [00:02<00:00,  1.28s/it]\n",
      "The following generation flags are not valid and may be ignored: ['temperature', 'top_p', 'top_k']. Set `TRANSFORMERS_VERBOSITY=info` for more details.\n",
      "Loading checkpoint shards: 100%|██████████| 2/2 [00:02<00:00,  1.37s/it]\n",
      "The following generation flags are not valid and may be ignored: ['temperature', 'top_p', 'top_k']. Set `TRANSFORMERS_VERBOSITY=info` for more details.\n",
      "Loading checkpoint shards: 100%|██████████| 2/2 [00:02<00:00,  1.34s/it]\n",
      "The following generation flags are not valid and may be ignored: ['temperature', 'top_p', 'top_k']. Set `TRANSFORMERS_VERBOSITY=info` for more details.\n",
      "Loading checkpoint shards: 100%|██████████| 2/2 [00:02<00:00,  1.27s/it]\n",
      "The following generation flags are not valid and may be ignored: ['temperature', 'top_p', 'top_k']. Set `TRANSFORMERS_VERBOSITY=info` for more details.\n",
      "Loading checkpoint shards: 100%|██████████| 2/2 [00:02<00:00,  1.26s/it]\n",
      "The following generation flags are not valid and may be ignored: ['temperature', 'top_p', 'top_k']. Set `TRANSFORMERS_VERBOSITY=info` for more details.\n",
      "Loading checkpoint shards: 100%|██████████| 2/2 [00:03<00:00,  1.65s/it]\n",
      "The following generation flags are not valid and may be ignored: ['temperature', 'top_p', 'top_k']. Set `TRANSFORMERS_VERBOSITY=info` for more details.\n",
      "Loading checkpoint shards: 100%|██████████| 2/2 [00:01<00:00,  1.03it/s]\n",
      "The following generation flags are not valid and may be ignored: ['temperature', 'top_p', 'top_k']. Set `TRANSFORMERS_VERBOSITY=info` for more details.\n",
      "Loading checkpoint shards: 100%|██████████| 2/2 [00:02<00:00,  1.03s/it]\n",
      "The following generation flags are not valid and may be ignored: ['temperature', 'top_p', 'top_k']. Set `TRANSFORMERS_VERBOSITY=info` for more details.\n",
      "Loading checkpoint shards: 100%|██████████| 2/2 [00:02<00:00,  1.17s/it]\n",
      "The following generation flags are not valid and may be ignored: ['temperature', 'top_p', 'top_k']. Set `TRANSFORMERS_VERBOSITY=info` for more details.\n",
      "Loading checkpoint shards: 100%|██████████| 2/2 [00:02<00:00,  1.20s/it]\n",
      "The following generation flags are not valid and may be ignored: ['temperature', 'top_p', 'top_k']. Set `TRANSFORMERS_VERBOSITY=info` for more details.\n",
      "Loading checkpoint shards: 100%|██████████| 2/2 [00:02<00:00,  1.38s/it]\n",
      "The following generation flags are not valid and may be ignored: ['temperature', 'top_p', 'top_k']. Set `TRANSFORMERS_VERBOSITY=info` for more details.\n",
      "Loading checkpoint shards: 100%|██████████| 2/2 [00:02<00:00,  1.16s/it]\n",
      "The following generation flags are not valid and may be ignored: ['temperature', 'top_p', 'top_k']. Set `TRANSFORMERS_VERBOSITY=info` for more details.\n",
      "Loading checkpoint shards: 100%|██████████| 2/2 [00:02<00:00,  1.26s/it]\n",
      "The following generation flags are not valid and may be ignored: ['temperature', 'top_p', 'top_k']. Set `TRANSFORMERS_VERBOSITY=info` for more details.\n",
      "Loading checkpoint shards: 100%|██████████| 2/2 [00:02<00:00,  1.10s/it]\n",
      "The following generation flags are not valid and may be ignored: ['temperature', 'top_p', 'top_k']. Set `TRANSFORMERS_VERBOSITY=info` for more details.\n",
      "Loading checkpoint shards: 100%|██████████| 2/2 [00:02<00:00,  1.14s/it]\n",
      "The following generation flags are not valid and may be ignored: ['temperature', 'top_p', 'top_k']. Set `TRANSFORMERS_VERBOSITY=info` for more details.\n",
      "Loading checkpoint shards: 100%|██████████| 2/2 [00:02<00:00,  1.03s/it]\n",
      "The following generation flags are not valid and may be ignored: ['temperature', 'top_p', 'top_k']. Set `TRANSFORMERS_VERBOSITY=info` for more details.\n",
      "Loading checkpoint shards: 100%|██████████| 2/2 [00:02<00:00,  1.18s/it]\n",
      "The following generation flags are not valid and may be ignored: ['temperature', 'top_p', 'top_k']. Set `TRANSFORMERS_VERBOSITY=info` for more details.\n",
      "Loading checkpoint shards: 100%|██████████| 2/2 [00:02<00:00,  1.06s/it]\n",
      "The following generation flags are not valid and may be ignored: ['temperature', 'top_p', 'top_k']. Set `TRANSFORMERS_VERBOSITY=info` for more details.\n",
      "Loading checkpoint shards: 100%|██████████| 2/2 [00:02<00:00,  1.19s/it]\n",
      "The following generation flags are not valid and may be ignored: ['temperature', 'top_p', 'top_k']. Set `TRANSFORMERS_VERBOSITY=info` for more details.\n",
      "Loading checkpoint shards: 100%|██████████| 2/2 [00:02<00:00,  1.32s/it]\n",
      "The following generation flags are not valid and may be ignored: ['temperature', 'top_p', 'top_k']. Set `TRANSFORMERS_VERBOSITY=info` for more details.\n",
      "Loading checkpoint shards: 100%|██████████| 2/2 [00:02<00:00,  1.31s/it]\n",
      "The following generation flags are not valid and may be ignored: ['temperature', 'top_p', 'top_k']. Set `TRANSFORMERS_VERBOSITY=info` for more details.\n",
      "Loading checkpoint shards: 100%|██████████| 2/2 [00:02<00:00,  1.10s/it]\n",
      "The following generation flags are not valid and may be ignored: ['temperature', 'top_p', 'top_k']. Set `TRANSFORMERS_VERBOSITY=info` for more details.\n",
      "Loading checkpoint shards: 100%|██████████| 2/2 [00:02<00:00,  1.17s/it]\n",
      "The following generation flags are not valid and may be ignored: ['temperature', 'top_p', 'top_k']. Set `TRANSFORMERS_VERBOSITY=info` for more details.\n",
      "Loading checkpoint shards: 100%|██████████| 2/2 [00:02<00:00,  1.17s/it]\n",
      "The following generation flags are not valid and may be ignored: ['temperature', 'top_p', 'top_k']. Set `TRANSFORMERS_VERBOSITY=info` for more details.\n",
      "Loading checkpoint shards: 100%|██████████| 2/2 [00:02<00:00,  1.23s/it]\n",
      "The following generation flags are not valid and may be ignored: ['temperature', 'top_p', 'top_k']. Set `TRANSFORMERS_VERBOSITY=info` for more details.\n",
      "Loading checkpoint shards: 100%|██████████| 2/2 [00:02<00:00,  1.11s/it]\n",
      "The following generation flags are not valid and may be ignored: ['temperature', 'top_p', 'top_k']. Set `TRANSFORMERS_VERBOSITY=info` for more details.\n",
      "Loading checkpoint shards: 100%|██████████| 2/2 [00:02<00:00,  1.30s/it]\n",
      "The following generation flags are not valid and may be ignored: ['temperature', 'top_p', 'top_k']. Set `TRANSFORMERS_VERBOSITY=info` for more details.\n",
      "Loading checkpoint shards: 100%|██████████| 2/2 [00:02<00:00,  1.11s/it]\n",
      "The following generation flags are not valid and may be ignored: ['temperature', 'top_p', 'top_k']. Set `TRANSFORMERS_VERBOSITY=info` for more details.\n",
      "Loading checkpoint shards: 100%|██████████| 2/2 [00:02<00:00,  1.07s/it]\n",
      "The following generation flags are not valid and may be ignored: ['temperature', 'top_p', 'top_k']. Set `TRANSFORMERS_VERBOSITY=info` for more details.\n",
      "Loading checkpoint shards: 100%|██████████| 2/2 [00:03<00:00,  1.74s/it]\n",
      "The following generation flags are not valid and may be ignored: ['temperature', 'top_p', 'top_k']. Set `TRANSFORMERS_VERBOSITY=info` for more details.\n"
     ]
    },
    {
     "name": "stdout",
     "output_type": "stream",
     "text": [
      "\u001b[32m2025-08-27 19:53:00.804\u001b[0m | \u001b[1mINFO    \u001b[0m | \u001b[36msrc.vision.runners.symbol_classifier\u001b[0m:\u001b[36mclassify_meso_tiles\u001b[0m:\u001b[36m175\u001b[0m - \u001b[1m[symbols] wrote 60 candidates → D:\\IIT BBS\\Job Resources\\fiolabs\\diagram-intel\\data\\_runs\\dev-new-mods-1\\processed\\components\\candidates.index.json\u001b[0m\n",
      "\u001b[32m2025-08-27 19:53:01.867\u001b[0m | \u001b[1mINFO    \u001b[0m | \u001b[36msrc.post.merge_candidates\u001b[0m:\u001b[36mrun_merge\u001b[0m:\u001b[36m182\u001b[0m - \u001b[1m[merge] wiring diagram_Main Distribution Panel_Fio Labs page-1: 60 → 4 merged components\u001b[0m\n",
      "\u001b[32m2025-08-27 19:53:01.871\u001b[0m | \u001b[1mINFO    \u001b[0m | \u001b[36msrc.post.merge_candidates\u001b[0m:\u001b[36mrun_merge\u001b[0m:\u001b[36m185\u001b[0m - \u001b[1m[merge] wrote 4 entries → D:\\IIT BBS\\Job Resources\\fiolabs\\diagram-intel\\data\\_runs\\dev-new-mods-1\\processed\\components\\merged\\merged.index.json\u001b[0m\n"
     ]
    }
   ],
   "source": [
    "from src.vision.runners.symbol_classifier import classify_meso_tiles\n",
    "from src.post.merge_candidates import run_merge\n",
    "\n",
    "classify_meso_tiles(cfg)   # uses Qwen 2B by default (fastest CPU)\n",
    "merge_stats = run_merge(cfg)\n",
    "merge_stats"
   ]
  },
  {
   "cell_type": "code",
   "execution_count": 15,
   "id": "deea9f7a",
   "metadata": {},
   "outputs": [
    {
     "name": "stdout",
     "output_type": "stream",
     "text": [
      "\u001b[32m2025-08-27 19:54:11.073\u001b[0m | \u001b[1mINFO    \u001b[0m | \u001b[36msrc.geometry.wires\u001b[0m:\u001b[36mextract_wires_for_pdf\u001b[0m:\u001b[36m123\u001b[0m - \u001b[1m[wires] wiring diagram_Main Distribution Panel_Fio Labs page-1: segs=1516 polys=1383 → D:\\IIT BBS\\Job Resources\\fiolabs\\diagram-intel\\data\\_runs\\dev-new-mods-1\\processed\\wires\\wiring diagram_Main Distribution Panel_Fio Labs\\page-1.json\u001b[0m\n",
      "\u001b[32m2025-08-27 19:54:12.728\u001b[0m | \u001b[1mINFO    \u001b[0m | \u001b[36msrc.geometry.ports\u001b[0m:\u001b[36msnap_wires_to_components\u001b[0m:\u001b[36m129\u001b[0m - \u001b[1m[ports] wiring diagram_Main Distribution Panel_Fio Labs page-1: ports=2117 conns=2299 → D:\\IIT BBS\\Job Resources\\fiolabs\\diagram-intel\\data\\_runs\\dev-new-mods-1\\processed\\ports\\wiring diagram_Main Distribution Panel_Fio Labs\\page-1.json\u001b[0m\n",
      "ports: 2117 connections: 2299\n"
     ]
    }
   ],
   "source": [
    "from src.geometry.wires import extract_wires_for_pdf\n",
    "from src.geometry.ports import snap_wires_to_components\n",
    "from src.utils.io import read_json\n",
    "from pathlib import Path\n",
    "\n",
    "extract_wires_for_pdf(cfg, pdf_stem)\n",
    "snap_wires_to_components(cfg, pdf_stem)\n",
    "\n",
    "ports_json = Path(cfg.paths.processed)/\"ports\"/pdf_stem/\"page-1.json\"\n",
    "P = read_json(ports_json)\n",
    "print(\"ports:\", len(P[\"ports\"]), \"connections:\", len(P[\"connections\"]))"
   ]
  },
  {
   "cell_type": "code",
   "execution_count": 16,
   "id": "ef485416",
   "metadata": {},
   "outputs": [
    {
     "name": "stdout",
     "output_type": "stream",
     "text": [
      "\u001b[32m2025-08-27 19:54:57.395\u001b[0m | \u001b[1mINFO    \u001b[0m | \u001b[36msrc.graph.build_graph\u001b[0m:\u001b[36mbuild_graph_for_page\u001b[0m:\u001b[36m88\u001b[0m - \u001b[1m[graph.build] nodes=4510 edges=5607\u001b[0m\n",
      "\u001b[32m2025-08-27 19:54:57.919\u001b[0m | \u001b[1mINFO    \u001b[0m | \u001b[36msrc.stitching.build_nets\u001b[0m:\u001b[36mstitch_page\u001b[0m:\u001b[36m144\u001b[0m - \u001b[1m[stitch] wiring diagram_Main Distribution Panel_Fio Labs page-1: nets=158 → D:\\IIT BBS\\Job Resources\\fiolabs\\diagram-intel\\data\\_runs\\dev-new-mods-1\\processed\\nets\\wiring diagram_Main Distribution Panel_Fio Labs\\page-1.json\u001b[0m\n",
      "nets: 158\n",
      "Graph JSON: True\n",
      "GraphML   : True (install lxml if False)\n"
     ]
    }
   ],
   "source": [
    "from src.stitching.build_nets import stitch_page\n",
    "from src.utils.io import read_json\n",
    "from pathlib import Path\n",
    "\n",
    "G, nets_payload = stitch_page(cfg, pdf_stem, page=1)\n",
    "print(\"nets:\", nets_payload[\"count\"])\n",
    "\n",
    "gdir = Path(cfg.paths.processed)/\"graphs\"/pdf_stem\n",
    "print(\"Graph JSON:\", (gdir/\"page-1.json\").exists())\n",
    "print(\"GraphML   :\", (gdir/\"page-1.graphml\").exists(), \"(install lxml if False)\")\n"
   ]
  },
  {
   "cell_type": "code",
   "execution_count": 17,
   "id": "d22a0f1d",
   "metadata": {},
   "outputs": [
    {
     "name": "stdout",
     "output_type": "stream",
     "text": [
      "violations:\u001b[32m2025-08-27 19:55:39.467\u001b[0m | \u001b[1mINFO    \u001b[0m | \u001b[36msrc.refine.violation_detector\u001b[0m:\u001b[36mdetect_violations\u001b[0m:\u001b[36m230\u001b[0m - \u001b[1m[refine] wrote violations → D:\\IIT BBS\\Job Resources\\fiolabs\\diagram-intel\\data\\_runs\\dev-new-mods-1\\processed\\refine\\wiring diagram_Main Distribution Panel_Fio Labs\\page-1.violations.json\u001b[0m\n",
      " 0\n",
      "\u001b[32m2025-08-27 19:55:39.606\u001b[0m | \u001b[1mINFO    \u001b[0m | \u001b[36msrc.refine.recursive_refine\u001b[0m:\u001b[36mautofix_ports_on_edges\u001b[0m:\u001b[36m69\u001b[0m - \u001b[1m[refine.autofix] moved 0 ports to bbox edges → D:\\IIT BBS\\Job Resources\\fiolabs\\diagram-intel\\data\\_runs\\dev-new-mods-1\\processed\\graphs_refined\\wiring diagram_Main Distribution Panel_Fio Labs\\page-1.json\u001b[0m\n"
     ]
    },
    {
     "data": {
      "text/plain": [
       "{'fixed': 0,\n",
       " 'path': 'D:\\\\IIT BBS\\\\Job Resources\\\\fiolabs\\\\diagram-intel\\\\data\\\\_runs\\\\dev-new-mods-1\\\\processed\\\\graphs_refined\\\\wiring diagram_Main Distribution Panel_Fio Labs\\\\page-1.json'}"
      ]
     },
     "execution_count": 17,
     "metadata": {},
     "output_type": "execute_result"
    }
   ],
   "source": [
    "from src.refine.violation_detector import detect_violations\n",
    "from src.refine.recursive_refine import autofix_ports_on_edges\n",
    "\n",
    "det = detect_violations(cfg, pdf_stem, page=1)\n",
    "print(\"violations:\", len(det[\"violations\"]))\n",
    "autofix = autofix_ports_on_edges(cfg, pdf_stem, page=1)\n",
    "autofix"
   ]
  },
  {
   "cell_type": "code",
   "execution_count": 7,
   "id": "2757bc68",
   "metadata": {},
   "outputs": [
    {
     "name": "stdout",
     "output_type": "stream",
     "text": [
      "Un-typed: 4\n",
      "- Un-typed — phase=L1/L2/L3/N volt=- bbox=7044x3962 | labels: 1 3 | 125G | 151G | 152G | 154G | MCB4  32A | TPN2 63A | To | TPN3 63A | MCB5  32A | 155G | 157G | 1…\n",
      "- Un-typed — phase=L1/L2/L3/N volt=- bbox=7984x1894 | labels: N 1 3 | N 2 4 | 4 6 | 20G | 55G | 57G | 70G | 122G | 124G | 121G | 125G | 142G | RCCB1 40A 100mA | I…\n",
      "- Un-typed — phase=L1/L2/L3/N volt=- bbox=2764x4832 | labels: 1 3 | 14K | MCCB1 100A | From Meter | From PV Inverter | TB1 CTS35L | 15K | 17K | 20K | 14G | 15G | …\n",
      "- Un-typed — phase=L1/L2/L3/N volt=- bbox=954x1024 | labels: REFERNCE CABLE | 1 SQ.MM | 1.5 SQ.MM | 10 SQ.MM | 6 SQ.MM | 16 SQ.MM\n",
      "CSV: D:\\IIT BBS\\Job Resources\\fiolabs\\diagram-intel\\data\\_runs\\dev-new-mods-1\\exports\\wiring diagram_Main Distribution Panel_Fio Labs\\components_page-1.csv True\n"
     ]
    }
   ],
   "source": [
    "from src.summarize.component_summary import summarize_components, component_counts\n",
    "cnts = component_counts(cfg, pdf_stem, page=1)\n",
    "for k,v in sorted(cnts.items(), key=lambda kv:(-kv[1],kv[0])):\n",
    "    print(f\"{k}: {v}\")\n",
    "\n",
    "blurbs = summarize_components(cfg, pdf_stem, page=1, top_n=6)\n",
    "for b in blurbs:\n",
    "    print(\"-\", b)\n",
    "\n",
    "from src.schema.serialization import export_components_csv\n",
    "out_csv = export_components_csv(cfg, pdf_stem, page=1)\n",
    "print(\"CSV:\", out_csv, Path(out_csv).exists())"
   ]
  },
  {
   "cell_type": "code",
   "execution_count": 8,
   "id": "6b4c8873",
   "metadata": {},
   "outputs": [
    {
     "data": {
      "image/png": "[encoded data removed]",
      "text/plain": [
       "<Figure size 640x480 with 1 Axes>"
      ]
     },
     "metadata": {},
     "output_type": "display_data"
    }
   ],
   "source": [
    "import json, collections\n",
    "from pathlib import Path\n",
    "from matplotlib import pyplot as plt\n",
    "\n",
    "nets_path = Path(cfg.paths.processed)/\"nets\"/pdf_stem/\"page-1.json\"\n",
    "nets = json.loads(nets_path.read_text(encoding=\"utf-8\"))[\"nets\"]\n",
    "sizes = [n[\"nodes\"] for n in nets]\n",
    "plt.figure()\n",
    "plt.hist(sizes, bins=20)\n",
    "plt.title(\"Net size histogram (nodes per net)\")\n",
    "plt.xlabel(\"nodes\"); plt.ylabel(\"count\")\n",
    "plt.show()"
   ]
  },
  {
   "cell_type": "code",
   "execution_count": 9,
   "id": "0ff6bedc",
   "metadata": {},
   "outputs": [
    {
     "name": "stderr",
     "output_type": "stream",
     "text": [
      "d:\\Anaconda\\envs\\diagram-intel\\Lib\\site-packages\\tqdm\\auto.py:21: TqdmWarning: IProgress not found. Please update jupyter and ipywidgets. See https://ipywidgets.readthedocs.io/en/stable/user_install.html\n",
      "  from .autonotebook import tqdm as notebook_tqdm\n"
     ]
    },
    {
     "name": "stdout",
     "output_type": "stream",
     "text": [
      "LLaVA not configured; skipping.\n"
     ]
    }
   ],
   "source": [
    "# Quick smoke-test without reclassifying everything:\n",
    "from src.utils.io import read_json\n",
    "from PIL import Image\n",
    "from transformers import AutoProcessor\n",
    "import torch, json\n",
    "\n",
    "# Enable llava temporarily if present\n",
    "try:\n",
    "    local = cfg.models.llava_v16_mistral_7b.local_path\n",
    "except Exception:\n",
    "    local = None\n",
    "\n",
    "if local:\n",
    "    print(\"LLaVA available at:\", local)\n",
    "    processor = AutoProcessor.from_pretrained(local, trust_remote_code=True)\n",
    "    try:\n",
    "        from transformers import AutoModelForImageTextToText as ModelCls\n",
    "    except Exception:\n",
    "        from transformers import AutoModelForVision2Seq as ModelCls\n",
    "    model = ModelCls.from_pretrained(local, torch_dtype=torch.float32, device_map=None, trust_remote_code=True)\n",
    "    model.eval()\n",
    "\n",
    "    # pick 3 meso tiles we already used\n",
    "    tiles_idx = read_json(Path(cfg.paths.interim)/\"tiles\"/\"tile_index.json\")\n",
    "    meso = [t for t in tiles_idx if t[\"scale\"]==\"meso\"][:3]\n",
    "    for t in meso:\n",
    "        img = Image.open(t[\"path\"]).convert(\"RGB\")\n",
    "        prompt = 'Classify the main electrical component visible. Return JSON: {\"type\":\"...\", \"confidence\":0.0}'\n",
    "        messages=[{\"role\":\"user\",\"content\":[{\"type\":\"image\",\"image\":img},{\"type\":\"text\",\"text\":prompt}]}]\n",
    "        text = processor.apply_chat_template(messages, add_generation_prompt=True)\n",
    "        inputs = processor(text=[text], images=[img], return_tensors=\"pt\")\n",
    "        out_ids = model.generate(**inputs, max_new_tokens=128, do_sample=False)\n",
    "        out = processor.batch_decode(out_ids, skip_special_tokens=True, clean_up_tokenization_spaces=False)[0]\n",
    "        s = out.find(\"{\"); e = out.rfind(\"}\")\n",
    "        print(Path(t[\"path\"]).name, \"→\", (json.loads(out[s:e+1]) if s!=-1 and e!=-1 else {\"raw\": out[-120:]}))\n",
    "else:\n",
    "    print(\"LLaVA not configured; skipping.\")"
   ]
  },
  {
   "cell_type": "code",
   "execution_count": 10,
   "id": "1284e90f",
   "metadata": {},
   "outputs": [
    {
     "name": "stdout",
     "output_type": "stream",
     "text": [
      "table_reader not configured fully (ok to skip): run_table_reader() got an unexpected keyword argument 'page'\n"
     ]
    }
   ],
   "source": [
    "# Will create processed/tables/<pdf>/page-1.json if something is detected\n",
    "try:\n",
    "    from src.vision.runners.table_reader import run_table_reader\n",
    "    tstats = run_table_reader(cfg, pdf_stem, page=1)\n",
    "    tstats\n",
    "except Exception as e:\n",
    "    print(\"table_reader not configured fully (ok to skip):\", e)"
   ]
  },
  {
   "cell_type": "code",
   "execution_count": 5,
   "id": "da24dc4d",
   "metadata": {},
   "outputs": [
    {
     "name": "stdout",
     "output_type": "stream",
     "text": [
      "Neo4j not configured or adapter skipped: cannot import name 'push_page_graph' from 'src.graph.neo4j_adapter' (D:\\IIT BBS\\Job Resources\\fiolabs\\diagram-intel\\src\\graph\\neo4j_adapter.py)\n"
     ]
    }
   ],
   "source": [
    "try:\n",
    "    from src.graph.neo4j_adapter import push_page_graph\n",
    "    pushed = push_page_graph(cfg, pdf_stem, page=1)\n",
    "    print(\"Neo4j push:\", pushed)\n",
    "except Exception as e:\n",
    "    print(\"Neo4j not configured or adapter skipped:\", e)"
   ]
  },
  {
   "cell_type": "code",
   "execution_count": 5,
   "id": "13d33f6a",
   "metadata": {},
   "outputs": [
    {
     "name": "stderr",
     "output_type": "stream",
     "text": [
      "d:\\Anaconda\\envs\\diagram-intel\\Lib\\site-packages\\tqdm\\auto.py:21: TqdmWarning: IProgress not found. Please update jupyter and ipywidgets. See https://ipywidgets.readthedocs.io/en/stable/user_install.html\n",
      "  from .autonotebook import tqdm as notebook_tqdm\n"
     ]
    },
    {
     "name": "stdout",
     "output_type": "stream",
     "text": [
      "\u001b[32m2025-08-27 20:14:51.602\u001b[0m | \u001b[1mINFO    \u001b[0m | \u001b[36msrc.vision.runners.table_reader\u001b[0m:\u001b[36mrun_table_reader\u001b[0m:\u001b[36m65\u001b[0m - \u001b[1m[table_reader] found 0 tables → D:\\IIT BBS\\Job Resources\\fiolabs\\diagram-intel\\data\\_runs\\dev-new-mods-1\\processed\\tables\\wiring diagram_Main Distribution Panel_Fio Labs\\page-1.json\u001b[0m\n"
     ]
    },
    {
     "data": {
      "text/plain": [
       "{'count': 0,\n",
       " 'path': 'D:\\\\IIT BBS\\\\Job Resources\\\\fiolabs\\\\diagram-intel\\\\data\\\\_runs\\\\dev-new-mods-1\\\\processed\\\\tables\\\\wiring diagram_Main Distribution Panel_Fio Labs\\\\page-1.json'}"
      ]
     },
     "execution_count": 5,
     "metadata": {},
     "output_type": "execute_result"
    }
   ],
   "source": [
    "from src.vision.runners.table_reader import run_table_reader\n",
    "stats = run_table_reader(cfg, pdf_stem, page=1, top_k_tiles=8)\n",
    "stats"
   ]
  },
  {
   "cell_type": "code",
   "execution_count": 9,
   "id": "14fbcf39",
   "metadata": {},
   "outputs": [],
   "source": [
    "# optional neo4j config\n",
    "from omegaconf import OmegaConf\n",
    "con = cfg.constraints\n",
    "neo4j_yml = ROOT / \"configs\" / \"neo4j.yaml\"\n",
    "if neo4j_yml.exists():\n",
    "    con = OmegaConf.merge(con, OmegaConf.create({\"neo4j\": OmegaConf.load(neo4j_yml)}))"
   ]
  },
  {
   "cell_type": "code",
   "execution_count": null,
   "id": "d9e73961",
   "metadata": {},
   "outputs": [],
   "source": [
    "import shutil\n",
    "ws = Path(cfg.paths.processed).parents[0]  # data/_runs/dev-new-mods\n",
    "print(\"Removing\", ws)\n",
    "shutil.rmtree(ws, ignore_errors=True)"
   ]
  }
 ],
 "metadata": {
  "kernelspec": {
   "display_name": "diagram-intel",
   "language": "python",
   "name": "python3"
  },
  "language_info": {
   "codemirror_mode": {
    "name": "ipython",
    "version": 3
   },
   "file_extension": ".py",
   "mimetype": "text/x-python",
   "name": "python",
   "nbconvert_exporter": "python",
   "pygments_lexer": "ipython3",
   "version": "3.11.13"
  }
 },
 "nbformat": 4,
 "nbformat_minor": 5
}
