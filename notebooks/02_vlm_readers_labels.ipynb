{
 "cells": [
  {
   "cell_type": "markdown",
   "id": "19f8167d",
   "metadata": {},
   "source": [
    "# **3) VLM Readers & Labels**"
   ]
  },
  {
   "cell_type": "code",
   "execution_count": 1,
   "id": "ed90d9a6",
   "metadata": {},
   "outputs": [
    {
     "name": "stdout",
     "output_type": "stream",
     "text": [
      "Project root: D:\\IIT BBS\\Job Resources\\fiolabs\\diagram-intel\n",
      "Python: 3.11.13 | packaged by Anaconda, Inc. | (main, Jun  5 2025, 13:03:15) [MSC v.1929 64 bit (AMD64)]\n",
      "OS: Windows-10-10.0.26100-SP0\n"
     ]
    },
    {
     "data": {
      "text/plain": [
       "{'use_vlm_on_micro': False, 'max_tiles_vlm': 120, 'min_vec_chars': 2, 'merge_dedup_fuzz': 88}"
      ]
     },
     "execution_count": 1,
     "metadata": {},
     "output_type": "execute_result"
    }
   ],
   "source": [
    "from pathlib import Path\n",
    "import os, sys, platform, json, subprocess\n",
    "\n",
    "ROOT = Path.cwd().resolve().parents[0]\n",
    "\n",
    "if (ROOT / \"src\").exists():\n",
    "    sys.path.insert(0, str(ROOT))\n",
    "\n",
    "print(\"Project root:\", ROOT)\n",
    "print(\"Python:\", sys.version)\n",
    "print(\"OS:\", platform.platform())\n",
    "\n",
    "from src.config.loader import load_cfg\n",
    "cfg = load_cfg()\n",
    "cfg.labels"
   ]
  },
  {
   "cell_type": "markdown",
   "id": "819ae670",
   "metadata": {},
   "source": [
    "#### **Building vector text index**"
   ]
  },
  {
   "cell_type": "code",
   "execution_count": 2,
   "id": "1b482ab9",
   "metadata": {},
   "outputs": [
    {
     "name": "stdout",
     "output_type": "stream",
     "text": [
      "\u001b[32m2025-08-27 04:01:53.448\u001b[0m | \u001b[1mINFO    \u001b[0m | \u001b[36msrc.vision.runners.labels_reader\u001b[0m:\u001b[36mbuild_vector_text_index\u001b[0m:\u001b[36m107\u001b[0m - \u001b[1m[vector_text] wiring diagram_Main Distribution Panel_Fio Labs: 260 items across 1 pages (sources: ['pymupdf'])\u001b[0m\n"
     ]
    },
    {
     "data": {
      "text/plain": [
       "{'wiring diagram_Main Distribution Panel_Fio Labs': [{'page': 1,\n",
       "   'path': 'D:\\\\IIT BBS\\\\Job Resources\\\\fiolabs\\\\diagram-intel\\\\data\\\\processed\\\\vector_text\\\\wiring diagram_Main Distribution Panel_Fio Labs\\\\page-1.json',\n",
       "   'count': 260,\n",
       "   'source': 'pymupdf'}]}"
      ]
     },
     "execution_count": 2,
     "metadata": {},
     "output_type": "execute_result"
    }
   ],
   "source": [
    "from src.vision.runners.labels_reader import build_vector_text_index\n",
    "vec_idx = build_vector_text_index(cfg)\n",
    "vec_idx"
   ]
  },
  {
   "cell_type": "markdown",
   "id": "f5ef83c4",
   "metadata": {},
   "source": [
    "#### **Tile label mapping (vector only first)**"
   ]
  },
  {
   "cell_type": "code",
   "execution_count": 3,
   "id": "ed8b3744",
   "metadata": {},
   "outputs": [
    {
     "name": "stdout",
     "output_type": "stream",
     "text": [
      "\u001b[32m2025-08-27 04:01:57.881\u001b[0m | \u001b[1mINFO    \u001b[0m | \u001b[36msrc.vision.runners.labels_reader\u001b[0m:\u001b[36mrun_labels_reader\u001b[0m:\u001b[36m138\u001b[0m - \u001b[1m[labels] VLM disabled (vector-only).\u001b[0m\n"
     ]
    },
    {
     "name": "stdout",
     "output_type": "stream",
     "text": [
      "\u001b[32m2025-08-27 04:01:58.335\u001b[0m | \u001b[1mINFO    \u001b[0m | \u001b[36msrc.vision.runners.labels_reader\u001b[0m:\u001b[36mrun_labels_reader\u001b[0m:\u001b[36m211\u001b[0m - \u001b[1m[labels] wrote 450 tile label files → D:\\IIT BBS\\Job Resources\\fiolabs\\diagram-intel\\data\\processed\\labels\\tile_labels.index.json\u001b[0m\n"
     ]
    }
   ],
   "source": [
    "from src.vision.runners.labels_reader import run_labels_reader\n",
    "run_labels_reader(cfg)"
   ]
  },
  {
   "cell_type": "markdown",
   "id": "35c47a39",
   "metadata": {},
   "source": [
    "#### **Peek**"
   ]
  },
  {
   "cell_type": "code",
   "execution_count": 4,
   "id": "53b5d225",
   "metadata": {},
   "outputs": [
    {
     "data": {
      "text/plain": [
       "(450,\n",
       " [{'tile_json': 'D:\\\\IIT BBS\\\\Job Resources\\\\fiolabs\\\\diagram-intel\\\\data\\\\processed\\\\labels\\\\tiles\\\\wiring diagram_Main Distribution Panel_Fio Labs\\\\page-1\\\\tile_r000_c000.json',\n",
       "   'n_vec': 0,\n",
       "   'n_vlm': 0},\n",
       "  {'tile_json': 'D:\\\\IIT BBS\\\\Job Resources\\\\fiolabs\\\\diagram-intel\\\\data\\\\processed\\\\labels\\\\tiles\\\\wiring diagram_Main Distribution Panel_Fio Labs\\\\page-1\\\\tile_r000_c001.json',\n",
       "   'n_vec': 0,\n",
       "   'n_vlm': 0},\n",
       "  {'tile_json': 'D:\\\\IIT BBS\\\\Job Resources\\\\fiolabs\\\\diagram-intel\\\\data\\\\processed\\\\labels\\\\tiles\\\\wiring diagram_Main Distribution Panel_Fio Labs\\\\page-1\\\\tile_r000_c002.json',\n",
       "   'n_vec': 3,\n",
       "   'n_vlm': 0}])"
      ]
     },
     "execution_count": 4,
     "metadata": {},
     "output_type": "execute_result"
    }
   ],
   "source": [
    "from src.utils.io import read_json\n",
    "from pathlib import Path\n",
    "idx = read_json(Path(cfg.paths.processed)/\"labels\"/\"tile_labels.index.json\")\n",
    "len(idx), idx[:3]"
   ]
  },
  {
   "cell_type": "code",
   "execution_count": 7,
   "id": "ca9d01d6",
   "metadata": {},
   "outputs": [
    {
     "name": "stdout",
     "output_type": "stream",
     "text": [
      "Tile JSON files: 450\n"
     ]
    },
    {
     "data": {
      "text/plain": [
       "(WindowsPath('D:/IIT BBS/Job Resources/fiolabs/diagram-intel/data/processed/labels/tiles/wiring diagram_Main Distribution Panel_Fio Labs/page-1/tile_r000_c002.json'),\n",
       " {'pdf': 'wiring diagram_Main Distribution Panel_Fio Labs',\n",
       "  'page': 1,\n",
       "  'scale': 'micro',\n",
       "  'row': 0,\n",
       "  'col': 2,\n",
       "  'tile_bbox': [870, 0, 1382, 512],\n",
       "  'tile_path': 'D:\\\\IIT BBS\\\\Job Resources\\\\fiolabs\\\\diagram-intel\\\\data\\\\interim\\\\tiles\\\\micro\\\\wiring diagram_Main Distribution Panel_Fio Labs\\\\page-1\\\\tile_r000_c002.png',\n",
       "  'vector_labels': ['To', 'Inverter', 'TB1-4'],\n",
       "  'vlm_labels': [],\n",
       "  'labels_merged': ['To', 'Inverter', 'TB1-4'],\n",
       "  'vector_items': [{'text': 'To',\n",
       "    'bbox': [1309.49, 118.28, 1402.18, 203.65],\n",
       "    'x': 1309.49,\n",
       "    'y': 118.28},\n",
       "   {'text': 'Inverter',\n",
       "    'bbox': [1186.49, 188.77, 1478.25, 274.14],\n",
       "    'x': 1186.49,\n",
       "    'y': 188.77},\n",
       "   {'text': 'TB1-4',\n",
       "    'bbox': [1312.23, 458.69, 1397.6, 678.0],\n",
       "    'x': 1312.23,\n",
       "    'y': 458.69}]})"
      ]
     },
     "execution_count": 7,
     "metadata": {},
     "output_type": "execute_result"
    }
   ],
   "source": [
    "from src.utils.io import read_json\n",
    "from pathlib import Path\n",
    "\n",
    "# find a tile with some labels\n",
    "tiles_dir = Path(cfg.paths.processed)/\"labels\"/\"tiles\"\n",
    "candidates = list(tiles_dir.rglob(\"*.json\"))\n",
    "print(\"Tile JSON files:\", len(candidates))\n",
    "sample = next(p for p in candidates if p.stat().st_size > 1000)  # heuristic\n",
    "sample, read_json(sample)\n"
   ]
  }
 ],
 "metadata": {
  "kernelspec": {
   "display_name": "diagram-intel",
   "language": "python",
   "name": "python3"
  },
  "language_info": {
   "codemirror_mode": {
    "name": "ipython",
    "version": 3
   },
   "file_extension": ".py",
   "mimetype": "text/x-python",
   "name": "python",
   "nbconvert_exporter": "python",
   "pygments_lexer": "ipython3",
   "version": "3.11.13"
  }
 },
 "nbformat": 4,
 "nbformat_minor": 5
}
