{
 "cells": [
  {
   "cell_type": "markdown",
   "id": "36cb1967",
   "metadata": {},
   "source": [
    "# **8) Graph query helpers**"
   ]
  },
  {
   "cell_type": "code",
   "execution_count": 1,
   "id": "8c06654d",
   "metadata": {},
   "outputs": [
    {
     "name": "stdout",
     "output_type": "stream",
     "text": [
      "Project root: D:\\IIT BBS\\Job Resources\\fiolabs\\diagram-intel\n",
      "Python: 3.11.13 | packaged by Anaconda, Inc. | (main, Jun  5 2025, 13:03:15) [MSC v.1929 64 bit (AMD64)]\n",
      "OS: Windows-10-10.0.26100-SP0\n"
     ]
    }
   ],
   "source": [
    "from pathlib import Path\n",
    "import os, sys, platform, json, subprocess\n",
    "\n",
    "ROOT = Path.cwd().resolve().parents[0]\n",
    "\n",
    "if (ROOT / \"src\").exists():\n",
    "    sys.path.insert(0, str(ROOT))\n",
    "\n",
    "print(\"Project root:\", ROOT)\n",
    "print(\"Python:\", sys.version)\n",
    "print(\"OS:\", platform.platform())"
   ]
  },
  {
   "cell_type": "code",
   "execution_count": 2,
   "id": "04dd53b6",
   "metadata": {},
   "outputs": [],
   "source": [
    "from src.config.loader import load_cfg\n",
    "from src.graph.queries import load_graph, find_nodes_by_text, nets_table, shortest_path_between_labels, extract_subgraph, save_query_result\n",
    "from pathlib import Path\n",
    "\n",
    "cfg = load_cfg()\n",
    "pdf_stem = Path(next(Path(cfg.paths.input_pdfs).glob(\"*.pdf\"))).stem\n",
    "G = load_graph(cfg, pdf_stem, page=1)"
   ]
  },
  {
   "cell_type": "code",
   "execution_count": 3,
   "id": "aac6ab2c",
   "metadata": {},
   "outputs": [
    {
     "data": {
      "text/plain": [
       "(158,\n",
       " [{'net_id': 0,\n",
       "   'nodes': 4160,\n",
       "   'components': 4,\n",
       "   'ports': 2117,\n",
       "   'junctions': 2039,\n",
       "   'phase': 'L1/L2/L3/N',\n",
       "   'voltage': None},\n",
       "  {'net_id': 42,\n",
       "   'nodes': 7,\n",
       "   'components': 0,\n",
       "   'ports': 0,\n",
       "   'junctions': 7,\n",
       "   'phase': None,\n",
       "   'voltage': None},\n",
       "  {'net_id': 16,\n",
       "   'nodes': 4,\n",
       "   'components': 0,\n",
       "   'ports': 0,\n",
       "   'junctions': 4,\n",
       "   'phase': None,\n",
       "   'voltage': None}])"
      ]
     },
     "execution_count": 3,
     "metadata": {},
     "output_type": "execute_result"
    }
   ],
   "source": [
    "# 1) Biggest nets\n",
    "nets = nets_table(cfg, pdf_stem, page=1)\n",
    "len(nets), nets[:3]"
   ]
  },
  {
   "cell_type": "code",
   "execution_count": 4,
   "id": "34a76b94",
   "metadata": {},
   "outputs": [
    {
     "data": {
      "text/plain": [
       "[('comp:wiring diagram_Main Distribution Panel_Fio Labs:1:comp:5:4:438942',\n",
       "  {'kind': 'component',\n",
       "   'comp_id': 'wiring diagram_Main Distribution Panel_Fio Labs:1:comp:5:4:438942',\n",
       "   'bbox': [3480.0, 3480.0, 10524.0, 7442.0],\n",
       "   'type': None,\n",
       "   'confidence': 0.0,\n",
       "   'labels_context': '1 3 | 125G | 151G | 152G | 154G | MCB4  32A | TPN2 63A | To | TPN3 63A | MCB5  32A | 155G | 157G | 170G | 20G | MCB9  32A | MCB10  32A | TPN5,6 63A | 202G | 204G | 205G | 212G | 214G | 217G | 220G | 221G | 142G | MCB6  32A | 55K | 55G | TPN1 100A | 215G | 57K | 70K | 20K | 57G | 70G | 172G | MCB7  25A | 174G | 175G | 150G | MCB8  25A | TPN4 63A | 177G | 200G | 201G | 122G | 124G | 121G | 120G | Lavis Engineering India Pvt. Ltd. | #12-13-832, Gokul Nagar, Tarnaka, Secunderabad-500017 | Telengana, India. Web: www.lavisindia.com | Project Code: 222106 | Size: A4 | Title: Internal Wiring Diagram of MDB -FIO LABS-222106 | Rev: 01 | 127G | 140G | 141G | 144G | 145G | 147G | From Stabilizer | first floor | Second Floor | Heat Pump | EV Charger | VRV | Lift | Prepared: SR | Checked : MS | Date: 15.04.23 | Approved: AVSCP | Drawing No: IWD-222092-1 Sheet  1  of  2 | Spare',\n",
       "   'net_id': 0,\n",
       "   'net_phase': 'L1/L2/L3/N',\n",
       "   'net_voltage': None})]"
      ]
     },
     "execution_count": 4,
     "metadata": {},
     "output_type": "execute_result"
    }
   ],
   "source": [
    "# 2) Find “Lift” nodes\n",
    "lift_nodes = find_nodes_by_text(G, r\"\\blift\\b\", kinds=[\"component\",\"port\"])\n",
    "lift_nodes[:3]"
   ]
  },
  {
   "cell_type": "code",
   "execution_count": 5,
   "id": "eb085c3e",
   "metadata": {},
   "outputs": [
    {
     "data": {
      "text/plain": [
       "{'path': ['comp:wiring diagram_Main Distribution Panel_Fio Labs:1:comp:5:4:438942'],\n",
       " 'length': 1,\n",
       " 'src': 'comp:wiring diagram_Main Distribution Panel_Fio Labs:1:comp:5:4:438942',\n",
       " 'dst': 'comp:wiring diagram_Main Distribution Panel_Fio Labs:1:comp:5:4:438942'}"
      ]
     },
     "execution_count": 5,
     "metadata": {},
     "output_type": "execute_result"
    }
   ],
   "source": [
    "# 3) Find a likely incomer (grid/dg) and the path to “Lift”\n",
    "path1 = shortest_path_between_labels(G, r\"(incoming|incomer|mains|grid|from\\s*meter|eb)\", r\"\\blift\\b\")\n",
    "path1"
   ]
  },
  {
   "cell_type": "code",
   "execution_count": 6,
   "id": "9905e6f1",
   "metadata": {},
   "outputs": [],
   "source": [
    "# 4) Save a small subgraph around the first “Lift” result for UI debugging\n",
    "if lift_nodes:\n",
    "    sg = extract_subgraph(G, lift_nodes[0][0], hops=2)\n",
    "    # Serialize for inspection (node ids + edge list)\n",
    "    data = {\n",
    "        \"nodes\": [{\"id\": n, **a} for n,a in sg.nodes(data=True)],\n",
    "        \"edges\": [{\"u\": u, \"v\": v, **attrs} for u,v,attrs in sg.edges(data=True)],\n",
    "    }\n",
    "    save_query_result(cfg, pdf_stem, \"lift_subgraph_h2\", data, page=1)"
   ]
  },
  {
   "cell_type": "code",
   "execution_count": null,
   "id": "eb17ab18",
   "metadata": {},
   "outputs": [],
   "source": []
  }
 ],
 "metadata": {
  "kernelspec": {
   "display_name": "diagram-intel",
   "language": "python",
   "name": "python3"
  },
  "language_info": {
   "codemirror_mode": {
    "name": "ipython",
    "version": 3
   },
   "file_extension": ".py",
   "mimetype": "text/x-python",
   "name": "python",
   "nbconvert_exporter": "python",
   "pygments_lexer": "ipython3",
   "version": "3.11.13"
  }
 },
 "nbformat": 4,
 "nbformat_minor": 5
}
