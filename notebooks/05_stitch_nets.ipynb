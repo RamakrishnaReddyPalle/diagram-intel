{
 "cells": [
  {
   "cell_type": "markdown",
   "id": "a7616c3c",
   "metadata": {},
   "source": [
    "# **5) Stitching nets**"
   ]
  },
  {
   "cell_type": "code",
   "execution_count": 7,
   "id": "972696d9",
   "metadata": {},
   "outputs": [
    {
     "name": "stdout",
     "output_type": "stream",
     "text": [
      "Project root: D:\\IIT BBS\\Job Resources\\fiolabs\\diagram-intel\n",
      "Python: 3.11.13 | packaged by Anaconda, Inc. | (main, Jun  5 2025, 13:03:15) [MSC v.1929 64 bit (AMD64)]\n",
      "OS: Windows-10-10.0.26100-SP0\n"
     ]
    }
   ],
   "source": [
    "from pathlib import Path\n",
    "import os, sys, platform, json, subprocess\n",
    "\n",
    "ROOT = Path.cwd().resolve().parents[0]\n",
    "\n",
    "if (ROOT / \"src\").exists():\n",
    "    sys.path.insert(0, str(ROOT))\n",
    "\n",
    "print(\"Project root:\", ROOT)\n",
    "print(\"Python:\", sys.version)\n",
    "print(\"OS:\", platform.platform())"
   ]
  },
  {
   "cell_type": "code",
   "execution_count": 8,
   "id": "6154ffe9",
   "metadata": {},
   "outputs": [],
   "source": [
    "from src.config.loader import load_cfg\n",
    "from src.stitching.build_nets import stitch_page\n",
    "from src.utils.io import read_json\n",
    "\n",
    "cfg = load_cfg()\n",
    "pdf_stem = Path(next(Path(cfg.paths.input_pdfs).glob(\"*.pdf\"))).stem"
   ]
  },
  {
   "cell_type": "code",
   "execution_count": 3,
   "id": "d1229617",
   "metadata": {},
   "outputs": [
    {
     "name": "stdout",
     "output_type": "stream",
     "text": [
      "\u001b[32m2025-08-27 11:51:11.276\u001b[0m | \u001b[1mINFO    \u001b[0m | \u001b[36msrc.graph.build_graph\u001b[0m:\u001b[36mbuild_graph_for_page\u001b[0m:\u001b[36m88\u001b[0m - \u001b[1m[graph.build] nodes=4510 edges=5607\u001b[0m\n",
      "\u001b[32m2025-08-27 11:51:11.659\u001b[0m | \u001b[1mINFO    \u001b[0m | \u001b[36msrc.stitching.build_nets\u001b[0m:\u001b[36mstitch_page\u001b[0m:\u001b[36m144\u001b[0m - \u001b[1m[stitch] wiring diagram_Main Distribution Panel_Fio Labs page-1: nets=158 → D:\\IIT BBS\\Job Resources\\fiolabs\\diagram-intel\\data\\processed\\nets\\wiring diagram_Main Distribution Panel_Fio Labs\\page-1.json\u001b[0m\n"
     ]
    },
    {
     "data": {
      "text/plain": [
       "(158,\n",
       " [{'net_id': 0,\n",
       "   'nodes': 4160,\n",
       "   'components': 4,\n",
       "   'ports': 2117,\n",
       "   'junctions': 2039,\n",
       "   'phase': 'L1/L2/L3/N',\n",
       "   'voltage': None},\n",
       "  {'net_id': 1,\n",
       "   'nodes': 2,\n",
       "   'components': 0,\n",
       "   'ports': 0,\n",
       "   'junctions': 2,\n",
       "   'phase': None,\n",
       "   'voltage': None},\n",
       "  {'net_id': 2,\n",
       "   'nodes': 2,\n",
       "   'components': 0,\n",
       "   'ports': 0,\n",
       "   'junctions': 2,\n",
       "   'phase': None,\n",
       "   'voltage': None}])"
      ]
     },
     "execution_count": 3,
     "metadata": {},
     "output_type": "execute_result"
    }
   ],
   "source": [
    "G, nets_payload = stitch_page(cfg, pdf_stem, page=1)\n",
    "nets_payload[\"count\"], nets_payload[\"nets\"][:3]"
   ]
  },
  {
   "cell_type": "code",
   "execution_count": 4,
   "id": "7b5317dd",
   "metadata": {},
   "outputs": [
    {
     "data": {
      "text/plain": [
       "[{'id': 'comp:wiring diagram_Main Distribution Panel_Fio Labs:1:comp:1:5:610625',\n",
       "  'kind': 'component',\n",
       "  'comp_id': 'wiring diagram_Main Distribution Panel_Fio Labs:1:comp:1:5:610625',\n",
       "  'bbox': [0.0, 0.0, 7984.0, 1894.0],\n",
       "  'type': None,\n",
       "  'confidence': 0.0,\n",
       "  'labels_context': 'N 1 3 | N 2 4 | 4 6 | 20G | 55G | 57G | 70G | 122G | 124G | 121G | 125G | 142G | RCCB1 40A 100mA | Isolator2 40A | 1 3 | 127G | 140G | 141G | RCCB2 40A 100mA | ACCL | MODULE | EB | DG | LOAD | 107G | 110G | 111G | 1Ph ACCL | 105G | POS-1--Bypass | POS-2--ACCL | A1 | A2 | A3 | B1 | B2 | B3 | 115G | 120G | 114G | ACCL Bypass | MCB11 32A | Isolator1 40A | N 2 4 6 | 144G | 145G | 147G | 150G | RCCB3 25A 100mA | From | Inverter | Inverter Bypass | 2Pole, 3WAY | POS-1--Man EB | POS-2-Man DG | POS-3--Auto | To | TB1-4',\n",
       "  'net_id': 0,\n",
       "  'net_phase': 'L1/L2/L3/N',\n",
       "  'net_voltage': None},\n",
       " {'id': 'comp:wiring diagram_Main Distribution Panel_Fio Labs:1:comp:5:4:438942',\n",
       "  'kind': 'component',\n",
       "  'comp_id': 'wiring diagram_Main Distribution Panel_Fio Labs:1:comp:5:4:438942',\n",
       "  'bbox': [3480.0, 3480.0, 10524.0, 7442.0],\n",
       "  'type': None,\n",
       "  'confidence': 0.0,\n",
       "  'labels_context': '1 3 | 125G | 151G | 152G | 154G | MCB4  32A | TPN2 63A | To | TPN3 63A | MCB5  32A | 155G | 157G | 170G | 20G | MCB9  32A | MCB10  32A | TPN5,6 63A | 202G | 204G | 205G | 212G | 214G | 217G | 220G | 221G | 142G | MCB6  32A | 55K | 55G | TPN1 100A | 215G | 57K | 70K | 20K | 57G | 70G | 172G | MCB7  25A | 174G | 175G | 150G | MCB8  25A | TPN4 63A | 177G | 200G | 201G | 122G | 124G | 121G | 120G | Lavis Engineering India Pvt. Ltd. | #12-13-832, Gokul Nagar, Tarnaka, Secunderabad-500017 | Telengana, India. Web: www.lavisindia.com | Project Code: 222106 | Size: A4 | Title: Internal Wiring Diagram of MDB -FIO LABS-222106 | Rev: 01 | 127G | 140G | 141G | 144G | 145G | 147G | From Stabilizer | first floor | Second Floor | Heat Pump | EV Charger | VRV | Lift | Prepared: SR | Checked : MS | Date: 15.04.23 | Approved: AVSCP | Drawing No: IWD-222092-1 Sheet  1  of  2 | Spare',\n",
       "  'net_id': 0,\n",
       "  'net_phase': 'L1/L2/L3/N',\n",
       "  'net_voltage': None},\n",
       " {'id': 'comp:wiring diagram_Main Distribution Panel_Fio Labs:1:comp:7:0:712463',\n",
       "  'kind': 'component',\n",
       "  'comp_id': 'wiring diagram_Main Distribution Panel_Fio Labs:1:comp:7:0:712463',\n",
       "  'bbox': [0.0, 2610.0, 2764.0, 7442.0],\n",
       "  'type': None,\n",
       "  'confidence': 0.0,\n",
       "  'labels_context': '1 3 | 14K | MCCB1 100A | From Meter | From PV Inverter | TB1 CTS35L | 15K | 17K | 20K | 14G | 15G | SOLAR | 4 6 | MCB1 20A | 17G | 20G | L1 L2 L3 N | G G | 207G | 210G | 211G | SPD1-C | 107G | 110G | MCB2A-2C  32A | MCB3 25A | To Stabilizer | Input | 102G | 104G | TB5-6 | From DG | L N',\n",
       "  'net_id': 0,\n",
       "  'net_phase': 'L1/L2/L3/N',\n",
       "  'net_voltage': None}]"
      ]
     },
     "execution_count": 4,
     "metadata": {},
     "output_type": "execute_result"
    }
   ],
   "source": [
    "from pathlib import Path, PurePath\n",
    "graph_json = Path(cfg.paths.processed)/\"graphs\"/pdf_stem/\"page-1.json\"\n",
    "read_json(graph_json)[\"nodes\"][:3]"
   ]
  },
  {
   "cell_type": "code",
   "execution_count": 5,
   "id": "4cc654a6",
   "metadata": {},
   "outputs": [
    {
     "data": {
      "text/plain": [
       "2039"
      ]
     },
     "execution_count": 5,
     "metadata": {},
     "output_type": "execute_result"
    }
   ],
   "source": [
    "sum(1 for _,a in G.nodes(data=True) if a.get(\"net_id\")==0 and a.get(\"kind\")==\"component\"),\n",
    "sum(1 for _,a in G.nodes(data=True) if a.get(\"net_id\")==0 and a.get(\"kind\")==\"port\"),\n",
    "sum(1 for _,a in G.nodes(data=True) if a.get(\"net_id\")==0 and a.get(\"kind\")==\"junction\")"
   ]
  },
  {
   "cell_type": "code",
   "execution_count": 6,
   "id": "a57dbe95",
   "metadata": {},
   "outputs": [
    {
     "data": {
      "text/plain": [
       "(4, 2117, 2039)"
      ]
     },
     "execution_count": 6,
     "metadata": {},
     "output_type": "execute_result"
    }
   ],
   "source": [
    "(\n",
    "  sum(1 for _,a in G.nodes(data=True) if a.get(\"net_id\")==0 and a.get(\"kind\")==\"component\"),\n",
    "  sum(1 for _,a in G.nodes(data=True) if a.get(\"net_id\")==0 and a.get(\"kind\")==\"port\"),\n",
    "  sum(1 for _,a in G.nodes(data=True) if a.get(\"net_id\")==0 and a.get(\"kind\")==\"junction\"),\n",
    ")"
   ]
  },
  {
   "cell_type": "code",
   "execution_count": 9,
   "id": "a5df3c2d",
   "metadata": {},
   "outputs": [
    {
     "name": "stdout",
     "output_type": "stream",
     "text": [
      "\u001b[32m2025-08-27 12:13:18.707\u001b[0m | \u001b[1mINFO    \u001b[0m | \u001b[36msrc.refine.autodiscover\u001b[0m:\u001b[36mdiscover_constraints_candidates\u001b[0m:\u001b[36m96\u001b[0m - \u001b[1m[autodiscover] wrote suggestions → D:\\IIT BBS\\Job Resources\\fiolabs\\diagram-intel\\configs\\constraints\\projects\\suggested_wiring diagram_Main Distribution Panel_Fio Labs.yaml\u001b[0m\n"
     ]
    },
    {
     "data": {
      "text/plain": [
       "{'path': 'D:\\\\IIT BBS\\\\Job Resources\\\\fiolabs\\\\diagram-intel\\\\configs\\\\constraints\\\\projects\\\\suggested_wiring diagram_Main Distribution Panel_Fio Labs.yaml',\n",
       " 'sources_found': 30,\n",
       " 'loads_found': 30,\n",
       " 'device_clues': ['MCB',\n",
       "  'TPN',\n",
       "  'ACCL',\n",
       "  'TB',\n",
       "  'RCCB',\n",
       "  'Isolator',\n",
       "  'SPD',\n",
       "  'MCCB',\n",
       "  'CTS']}"
      ]
     },
     "execution_count": 9,
     "metadata": {},
     "output_type": "execute_result"
    }
   ],
   "source": [
    "from src.config.loader import load_cfg\n",
    "from src.refine.autodiscover import discover_constraints_candidates\n",
    "cfg = load_cfg()\n",
    "pdf_stem = Path(next(Path(cfg.paths.input_pdfs).glob(\"*.pdf\"))).stem\n",
    "discover_constraints_candidates(cfg, pdf_stem)"
   ]
  }
 ],
 "metadata": {
  "kernelspec": {
   "display_name": "diagram-intel",
   "language": "python",
   "name": "python3"
  },
  "language_info": {
   "codemirror_mode": {
    "name": "ipython",
    "version": 3
   },
   "file_extension": ".py",
   "mimetype": "text/x-python",
   "name": "python",
   "nbconvert_exporter": "python",
   "pygments_lexer": "ipython3",
   "version": "3.11.13"
  }
 },
 "nbformat": 4,
 "nbformat_minor": 5
}
