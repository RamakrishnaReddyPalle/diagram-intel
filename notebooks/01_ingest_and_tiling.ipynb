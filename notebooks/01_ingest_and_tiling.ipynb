{
 "cells": [
  {
   "cell_type": "markdown",
   "id": "3f1e6839",
   "metadata": {},
   "source": [
    "# **2) Ingest & Tiling**"
   ]
  },
  {
   "cell_type": "code",
   "execution_count": 1,
   "id": "b404c9de",
   "metadata": {},
   "outputs": [],
   "source": [
    "from pathlib import Path\n",
    "import os, sys, platform, json, subprocess"
   ]
  },
  {
   "cell_type": "code",
   "execution_count": 2,
   "id": "95782690",
   "metadata": {},
   "outputs": [
    {
     "name": "stdout",
     "output_type": "stream",
     "text": [
      "Project root: D:\\IIT BBS\\Job Resources\\fiolabs\\diagram-intel\n",
      "Python: 3.11.13 | packaged by Anaconda, Inc. | (main, Jun  5 2025, 13:03:15) [MSC v.1929 64 bit (AMD64)]\n",
      "OS: Windows-10-10.0.26100-SP0\n"
     ]
    }
   ],
   "source": [
    "ROOT = Path.cwd().resolve().parents[0]\n",
    "\n",
    "if (ROOT / \"src\").exists():\n",
    "    sys.path.insert(0, str(ROOT))\n",
    "\n",
    "print(\"Project root:\", ROOT)\n",
    "print(\"Python:\", sys.version)\n",
    "print(\"OS:\", platform.platform())"
   ]
  },
  {
   "cell_type": "code",
   "execution_count": 3,
   "id": "cb60fca3",
   "metadata": {},
   "outputs": [
    {
     "data": {
      "text/plain": [
       "('D:\\\\IIT BBS\\\\Job Resources\\\\fiolabs\\\\diagram-intel\\\\data\\\\raw',\n",
       " 'D:\\\\IIT BBS\\\\Job Resources\\\\fiolabs\\\\diagram-intel\\\\data\\\\interim',\n",
       " 900)"
      ]
     },
     "execution_count": 3,
     "metadata": {},
     "output_type": "execute_result"
    }
   ],
   "source": [
    "from src.config.loader import load_cfg\n",
    "cfg = load_cfg()\n",
    "cfg.paths.raw, cfg.paths.interim, cfg.runtime.dpi"
   ]
  },
  {
   "cell_type": "code",
   "execution_count": 4,
   "id": "20bb1eff",
   "metadata": {},
   "outputs": [
    {
     "name": "stdout",
     "output_type": "stream",
     "text": [
      "Input dir: D:\\IIT BBS\\Job Resources\\fiolabs\\diagram-intel\\data\\input_pdfs\n",
      "Exists: True\n"
     ]
    },
    {
     "data": {
      "text/plain": [
       "[WindowsPath('D:/IIT BBS/Job Resources/fiolabs/diagram-intel/data/input_pdfs/wiring diagram_Main Distribution Panel_Fio Labs.pdf')]"
      ]
     },
     "execution_count": 4,
     "metadata": {},
     "output_type": "execute_result"
    }
   ],
   "source": [
    "inp_dir = Path(cfg.paths.input_pdfs)\n",
    "print(\"Input dir:\", inp_dir)\n",
    "print(\"Exists:\", inp_dir.exists())\n",
    "\n",
    "# case-insensitive *.pdf on Windows\n",
    "pdfs = [p for p in inp_dir.glob(\"*\") if p.suffix.lower() == \".pdf\"]\n",
    "pdfs"
   ]
  },
  {
   "cell_type": "code",
   "execution_count": 5,
   "id": "76efba36",
   "metadata": {},
   "outputs": [
    {
     "name": "stdout",
     "output_type": "stream",
     "text": [
      "\u001b[32m2025-08-27 03:42:34.706\u001b[0m | \u001b[1mINFO    \u001b[0m | \u001b[36msrc.ingest.pdf_to_svg\u001b[0m:\u001b[36mextract_svg\u001b[0m:\u001b[36m16\u001b[0m - \u001b[1m[ingest] Exporting SVG/PNG for wiring diagram_Main Distribution Panel_Fio Labs.pdf (dpi=900)\u001b[0m\n",
      "\u001b[32m2025-08-27 03:42:37.240\u001b[0m | \u001b[1mINFO    \u001b[0m | \u001b[36msrc.ingest.pdf_to_svg\u001b[0m:\u001b[36mextract_svg\u001b[0m:\u001b[36m30\u001b[0m - \u001b[1m[ingest] Engine=pymupdf | pages=1 | vector-like pages=1\u001b[0m\n",
      "\u001b[32m2025-08-27 03:42:37.240\u001b[0m | \u001b[1mINFO    \u001b[0m | \u001b[36msrc.ingest.pdf_to_svg\u001b[0m:\u001b[36mextract_svg\u001b[0m:\u001b[36m31\u001b[0m - \u001b[1m[ingest] Wrote manifest → D:\\IIT BBS\\Job Resources\\fiolabs\\diagram-intel\\data\\raw\\manifests\\wiring diagram_Main Distribution Panel_Fio Labs.json\u001b[0m\n"
     ]
    }
   ],
   "source": [
    "# Export SVG+PNG for the first PDF\n",
    "from src.ingest.pdf_to_svg import extract_svg\n",
    "assert len(pdfs)>0, \"Put at least one drawing in data/input_pdfs/\"\n",
    "extract_svg(str(pdfs[0]), cfg)"
   ]
  },
  {
   "cell_type": "code",
   "execution_count": 6,
   "id": "dca2ed22",
   "metadata": {},
   "outputs": [
    {
     "name": "stdout",
     "output_type": "stream",
     "text": [
      "\u001b[32m2025-08-27 03:43:09.453\u001b[0m | \u001b[1mINFO    \u001b[0m | \u001b[36msrc.ingest.tiler\u001b[0m:\u001b[36mtile_pages\u001b[0m:\u001b[36m66\u001b[0m - \u001b[1m[tiler] wiring diagram_Main Distribution Panel_Fio Labs page-1: wrote 602 tiles\u001b[0m\n",
      "\u001b[32m2025-08-27 03:43:09.464\u001b[0m | \u001b[1mINFO    \u001b[0m | \u001b[36msrc.ingest.tiler\u001b[0m:\u001b[36mtile_pages\u001b[0m:\u001b[36m69\u001b[0m - \u001b[1m[tiler] Wrote tile index (602 rows) → D:\\IIT BBS\\Job Resources\\fiolabs\\diagram-intel\\data\\interim\\tiles\\tile_index.json\u001b[0m\n"
     ]
    },
    {
     "data": {
      "text/plain": [
       "(602,\n",
       " [{'pdf': 'wiring diagram_Main Distribution Panel_Fio Labs',\n",
       "   'page': 1,\n",
       "   'scale': 'micro',\n",
       "   'row': 0,\n",
       "   'col': 0,\n",
       "   'bbox': [0, 0, 512, 512],\n",
       "   'path': 'D:\\\\IIT BBS\\\\Job Resources\\\\fiolabs\\\\diagram-intel\\\\data\\\\interim\\\\tiles\\\\micro\\\\wiring diagram_Main Distribution Panel_Fio Labs\\\\page-1\\\\tile_r000_c000.png'},\n",
       "  {'pdf': 'wiring diagram_Main Distribution Panel_Fio Labs',\n",
       "   'page': 1,\n",
       "   'scale': 'micro',\n",
       "   'row': 0,\n",
       "   'col': 1,\n",
       "   'bbox': [435, 0, 947, 512],\n",
       "   'path': 'D:\\\\IIT BBS\\\\Job Resources\\\\fiolabs\\\\diagram-intel\\\\data\\\\interim\\\\tiles\\\\micro\\\\wiring diagram_Main Distribution Panel_Fio Labs\\\\page-1\\\\tile_r000_c001.png'},\n",
       "  {'pdf': 'wiring diagram_Main Distribution Panel_Fio Labs',\n",
       "   'page': 1,\n",
       "   'scale': 'micro',\n",
       "   'row': 0,\n",
       "   'col': 2,\n",
       "   'bbox': [870, 0, 1382, 512],\n",
       "   'path': 'D:\\\\IIT BBS\\\\Job Resources\\\\fiolabs\\\\diagram-intel\\\\data\\\\interim\\\\tiles\\\\micro\\\\wiring diagram_Main Distribution Panel_Fio Labs\\\\page-1\\\\tile_r000_c002.png'}])"
      ]
     },
     "execution_count": 6,
     "metadata": {},
     "output_type": "execute_result"
    }
   ],
   "source": [
    "# Tiler\n",
    "from src.ingest.tiler import tile_pages\n",
    "tile_pages(cfg)\n",
    "\n",
    "from src.utils.io import read_json\n",
    "from pathlib import Path\n",
    "tile_idx = read_json(Path(cfg.paths.interim)/\"tiles\"/\"tile_index.json\")\n",
    "len(tile_idx), tile_idx[:3]\n"
   ]
  }
 ],
 "metadata": {
  "kernelspec": {
   "display_name": "diagram-intel",
   "language": "python",
   "name": "python3"
  },
  "language_info": {
   "codemirror_mode": {
    "name": "ipython",
    "version": 3
   },
   "file_extension": ".py",
   "mimetype": "text/x-python",
   "name": "python",
   "nbconvert_exporter": "python",
   "pygments_lexer": "ipython3",
   "version": "3.11.13"
  }
 },
 "nbformat": 4,
 "nbformat_minor": 5
}
