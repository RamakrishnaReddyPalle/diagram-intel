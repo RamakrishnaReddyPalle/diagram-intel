{
 "cells": [
  {
   "cell_type": "markdown",
   "id": "b6f6aefc",
   "metadata": {},
   "source": [
    "# **4) Wires and ports geometry**"
   ]
  },
  {
   "cell_type": "code",
   "execution_count": 1,
   "id": "57010f55",
   "metadata": {},
   "outputs": [
    {
     "name": "stdout",
     "output_type": "stream",
     "text": [
      "Project root: D:\\IIT BBS\\Job Resources\\fiolabs\\diagram-intel\n",
      "Python: 3.11.13 | packaged by Anaconda, Inc. | (main, Jun  5 2025, 13:03:15) [MSC v.1929 64 bit (AMD64)]\n",
      "OS: Windows-10-10.0.26100-SP0\n"
     ]
    }
   ],
   "source": [
    "from pathlib import Path\n",
    "import os, sys, platform, json, subprocess\n",
    "\n",
    "ROOT = Path.cwd().resolve().parents[0]\n",
    "\n",
    "if (ROOT / \"src\").exists():\n",
    "    sys.path.insert(0, str(ROOT))\n",
    "\n",
    "print(\"Project root:\", ROOT)\n",
    "print(\"Python:\", sys.version)\n",
    "print(\"OS:\", platform.platform())"
   ]
  },
  {
   "cell_type": "code",
   "execution_count": 2,
   "id": "2c686dd6",
   "metadata": {},
   "outputs": [
    {
     "name": "stdout",
     "output_type": "stream",
     "text": [
      "\u001b[32m2025-08-27 11:29:42.945\u001b[0m | \u001b[1mINFO    \u001b[0m | \u001b[36msrc.geometry.wires\u001b[0m:\u001b[36mextract_wires_for_pdf\u001b[0m:\u001b[36m123\u001b[0m - \u001b[1m[wires] wiring diagram_Main Distribution Panel_Fio Labs page-1: segs=1516 polys=1383 → D:\\IIT BBS\\Job Resources\\fiolabs\\diagram-intel\\data\\processed\\wires\\wiring diagram_Main Distribution Panel_Fio Labs\\page-1.json\u001b[0m\n"
     ]
    },
    {
     "data": {
      "text/plain": [
       "(1383, [[5839, 841], [3955, 1583], [5026, 5019], [4361, 4894], [520, 6042]])"
      ]
     },
     "execution_count": 2,
     "metadata": {},
     "output_type": "execute_result"
    }
   ],
   "source": [
    "from src.config.loader import load_cfg\n",
    "from src.utils.io import read_json\n",
    "from src.geometry.wires import extract_wires_for_pdf\n",
    "\n",
    "cfg = load_cfg()\n",
    "pdf_stem = Path(next(Path(cfg.paths.input_pdfs).glob(\"*.pdf\"))).stem  # first PDF\n",
    "\n",
    "extract_wires_for_pdf(cfg, pdf_stem)\n",
    "\n",
    "wires = read_json(Path(cfg.paths.processed)/\"wires\"/pdf_stem/\"page-1.json\")\n",
    "wires[\"n_polylines\"], wires[\"endpoints\"][:5]"
   ]
  },
  {
   "cell_type": "code",
   "execution_count": 3,
   "id": "ff6cc3a3",
   "metadata": {},
   "outputs": [
    {
     "name": "stdout",
     "output_type": "stream",
     "text": [
      "\u001b[32m2025-08-27 11:30:14.333\u001b[0m | \u001b[1mINFO    \u001b[0m | \u001b[36msrc.geometry.ports\u001b[0m:\u001b[36msnap_wires_to_components\u001b[0m:\u001b[36m129\u001b[0m - \u001b[1m[ports] wiring diagram_Main Distribution Panel_Fio Labs page-1: ports=2117 conns=2299 → D:\\IIT BBS\\Job Resources\\fiolabs\\diagram-intel\\data\\processed\\ports\\wiring diagram_Main Distribution Panel_Fio Labs\\page-1.json\u001b[0m\n"
     ]
    },
    {
     "data": {
      "text/plain": [
       "(2117,\n",
       " 2299,\n",
       " [{'id': 'J0000', 'xy': [5839.0, 841.0], 'members': [[5839, 841]]},\n",
       "  {'id': 'J0001',\n",
       "   'xy': [3955.0, 1592.0],\n",
       "   'members': [[3955, 1583], [3955, 1601]]}])"
      ]
     },
     "execution_count": 3,
     "metadata": {},
     "output_type": "execute_result"
    }
   ],
   "source": [
    "from src.geometry.ports import snap_wires_to_components\n",
    "from src.utils.io import read_json\n",
    "from pathlib import Path\n",
    "\n",
    "snap_wires_to_components(cfg, pdf_stem)\n",
    "\n",
    "ports = read_json(Path(cfg.paths.processed)/\"ports\"/pdf_stem/\"page-1.json\")\n",
    "len(ports[\"ports\"]), len(ports[\"connections\"]), ports[\"junctions\"][:2]"
   ]
  }
 ],
 "metadata": {
  "kernelspec": {
   "display_name": "diagram-intel",
   "language": "python",
   "name": "python3"
  },
  "language_info": {
   "codemirror_mode": {
    "name": "ipython",
    "version": 3
   },
   "file_extension": ".py",
   "mimetype": "text/x-python",
   "name": "python",
   "nbconvert_exporter": "python",
   "pygments_lexer": "ipython3",
   "version": "3.11.13"
  }
 },
 "nbformat": 4,
 "nbformat_minor": 5
}
