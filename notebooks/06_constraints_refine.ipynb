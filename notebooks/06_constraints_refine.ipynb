{
 "cells": [
  {
   "cell_type": "markdown",
   "id": "f772596b",
   "metadata": {},
   "source": [
    "# **6) Refining constraints**"
   ]
  },
  {
   "cell_type": "code",
   "execution_count": 1,
   "id": "20ef2c58",
   "metadata": {},
   "outputs": [
    {
     "name": "stdout",
     "output_type": "stream",
     "text": [
      "Project root: D:\\IIT BBS\\Job Resources\\fiolabs\\diagram-intel\n",
      "Python: 3.11.13 | packaged by Anaconda, Inc. | (main, Jun  5 2025, 13:03:15) [MSC v.1929 64 bit (AMD64)]\n",
      "OS: Windows-10-10.0.26100-SP0\n"
     ]
    }
   ],
   "source": [
    "from pathlib import Path\n",
    "import os, sys, platform, json, subprocess\n",
    "\n",
    "ROOT = Path.cwd().resolve().parents[0]\n",
    "\n",
    "if (ROOT / \"src\").exists():\n",
    "    sys.path.insert(0, str(ROOT))\n",
    "\n",
    "print(\"Project root:\", ROOT)\n",
    "print(\"Python:\", sys.version)\n",
    "print(\"OS:\", platform.platform())"
   ]
  },
  {
   "cell_type": "code",
   "execution_count": 2,
   "id": "cf6c219b",
   "metadata": {},
   "outputs": [],
   "source": [
    "from src.config.loader import load_cfg\n",
    "from src.refine.violation_detector import detect_violations\n",
    "from src.refine.recursive_refine import autofix_ports_on_edges\n",
    "from src.utils.io import read_json\n",
    "from pathlib import Path\n",
    "\n",
    "cfg = load_cfg()\n",
    "pdf_stem = Path(next(Path(cfg.paths.input_pdfs).glob(\"*.pdf\"))).stem"
   ]
  },
  {
   "cell_type": "code",
   "execution_count": 3,
   "id": "b2ac843e",
   "metadata": {},
   "outputs": [
    {
     "name": "stdout",
     "output_type": "stream",
     "text": [
      "\u001b[32m2025-08-27 12:28:53.065\u001b[0m | \u001b[1mINFO    \u001b[0m | \u001b[36msrc.refine.violation_detector\u001b[0m:\u001b[36mdetect_violations\u001b[0m:\u001b[36m230\u001b[0m - \u001b[1m[refine] wrote violations → D:\\IIT BBS\\Job Resources\\fiolabs\\diagram-intel\\data\\processed\\refine\\wiring diagram_Main Distribution Panel_Fio Labs\\page-1.violations.json\u001b[0m\n"
     ]
    },
    {
     "data": {
      "text/plain": [
       "{'pdf': 'wiring diagram_Main Distribution Panel_Fio Labs',\n",
       " 'page': 1,\n",
       " 'stats': {'nodes': 4510,\n",
       "  'edges': 5607,\n",
       "  'nets_count': 158,\n",
       "  'largest_net': 4160},\n",
       " 'violations': []}"
      ]
     },
     "execution_count": 3,
     "metadata": {},
     "output_type": "execute_result"
    }
   ],
   "source": [
    "# A) detect\n",
    "det = detect_violations(cfg, pdf_stem, page=1)\n",
    "det"
   ]
  },
  {
   "cell_type": "code",
   "execution_count": 4,
   "id": "319e5cb7",
   "metadata": {},
   "outputs": [
    {
     "data": {
      "text/plain": [
       "(0, [])"
      ]
     },
     "execution_count": 4,
     "metadata": {},
     "output_type": "execute_result"
    }
   ],
   "source": [
    "# Inspect a few violations\n",
    "vpath = Path(cfg.paths.processed)/\"refine\"/pdf_stem/\"page-1.violations.json\"\n",
    "viol = read_json(vpath)[\"violations\"]\n",
    "len(viol), viol[:5]"
   ]
  },
  {
   "cell_type": "code",
   "execution_count": 5,
   "id": "27eab11e",
   "metadata": {},
   "outputs": [
    {
     "name": "stdout",
     "output_type": "stream",
     "text": [
      "\u001b[32m2025-08-27 12:29:01.132\u001b[0m | \u001b[1mINFO    \u001b[0m | \u001b[36msrc.refine.recursive_refine\u001b[0m:\u001b[36mautofix_ports_on_edges\u001b[0m:\u001b[36m69\u001b[0m - \u001b[1m[refine.autofix] moved 0 ports to bbox edges → D:\\IIT BBS\\Job Resources\\fiolabs\\diagram-intel\\data\\processed\\graphs_refined\\wiring diagram_Main Distribution Panel_Fio Labs\\page-1.json\u001b[0m\n"
     ]
    },
    {
     "data": {
      "text/plain": [
       "{'fixed': 0,\n",
       " 'path': 'D:\\\\IIT BBS\\\\Job Resources\\\\fiolabs\\\\diagram-intel\\\\data\\\\processed\\\\graphs_refined\\\\wiring diagram_Main Distribution Panel_Fio Labs\\\\page-1.json'}"
      ]
     },
     "execution_count": 5,
     "metadata": {},
     "output_type": "execute_result"
    }
   ],
   "source": [
    "# B) optional auto-fix ports-on-edge (geometry only; safe)\n",
    "autofix_ports_on_edges(cfg, pdf_stem, page=1)"
   ]
  }
 ],
 "metadata": {
  "kernelspec": {
   "display_name": "diagram-intel",
   "language": "python",
   "name": "python3"
  },
  "language_info": {
   "codemirror_mode": {
    "name": "ipython",
    "version": 3
   },
   "file_extension": ".py",
   "mimetype": "text/x-python",
   "name": "python",
   "nbconvert_exporter": "python",
   "pygments_lexer": "ipython3",
   "version": "3.11.13"
  }
 },
 "nbformat": 4,
 "nbformat_minor": 5
}
